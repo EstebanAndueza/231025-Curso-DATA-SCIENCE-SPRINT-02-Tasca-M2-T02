{
 "cells": [
  {
   "cell_type": "markdown",
   "id": "2684c11f",
   "metadata": {},
   "source": [
    "# TASCA M2 T02"
   ]
  },
  {
   "cell_type": "markdown",
   "id": "67a0e9cd",
   "metadata": {},
   "source": [
    "# Exercici 1\n",
    "\n",
    "El ejercicio consiste en crear una función que te clasifique una variable numérica en función de la escala Suspendido/Aprobado/Notable/Excelente.\n",
    "\n",
    "Recuerda que \n",
    "- Suspendido < 5, \n",
    "- Aprobado > 5 y < 7, \n",
    "- Notable > 7 y < 9 y \n",
    "- Excelente > 9.\n"
   ]
  },
  {
   "cell_type": "code",
   "execution_count": 16,
   "id": "885f64c3",
   "metadata": {},
   "outputs": [
    {
     "name": "stdout",
     "output_type": "stream",
     "text": [
      "¿Qué puntuación has sacado? 8.5\n",
      "Notable\n"
     ]
    }
   ],
   "source": [
    "nota = float(input(\"¿Qué puntuación has sacado? \"))\n",
    "\n",
    "if nota<5:\n",
    "    print(\"Suspendido\")  \n",
    "elif nota==5:\n",
    "    print(\"Aprobado\")\n",
    "elif nota>5 and nota<9:\n",
    "    print (\"Notable\") \n",
    "else:\n",
    "    print(\"Excelente\")"
   ]
  },
  {
   "cell_type": "code",
   "execution_count": 17,
   "id": "1ee13ae4",
   "metadata": {},
   "outputs": [
    {
     "name": "stdout",
     "output_type": "stream",
     "text": [
      "¿Qué puntuación has sacado? 4.2\n",
      "Suspendido\n"
     ]
    }
   ],
   "source": [
    "# También lo puedo hacer todo en una misma línea con elses sucesivos: \n",
    "\n",
    "nota = float(input(\"¿Qué puntuación has sacado? \"))\n",
    "\n",
    "print(\"Suspendido\") if nota<5 else print(\"Aprobado\") if nota==5 else print (\"Notable\") if nota>5 and nota<9 else print (\"Excelente\")"
   ]
  },
  {
   "cell_type": "markdown",
   "id": "3c833d21",
   "metadata": {},
   "source": [
    "# Exercici 2\n",
    "Usando el siguiente tutorial crea una función que te pregunte dos números. Debe mostrarte un mensaje diciendo si el primero es mayor, el segundo es mayor o son iguales.\n",
    "\n",
    "- ->Programiz: Python Input, Output and Import\n"
   ]
  },
  {
   "cell_type": "code",
   "execution_count": 18,
   "id": "8a6c95bd",
   "metadata": {},
   "outputs": [
    {
     "name": "stdout",
     "output_type": "stream",
     "text": [
      "Dame tu primer número: 100\n",
      "Dame tu segundo número: 99\n",
      "Tu primer número es mayor\n"
     ]
    }
   ],
   "source": [
    "a = float(input(\"Dame tu primer número: \"))\n",
    "b = float(input(\"Dame tu segundo número: \"))\n",
    "\n",
    "if a > b:\n",
    "  print(\"Tu primer número es mayor\")\n",
    "elif a == b:\n",
    "  print(\"Tus dos números son iguales\")\n",
    "else:\n",
    "  print(\"Tu segundo es mayor\")"
   ]
  },
  {
   "cell_type": "markdown",
   "id": "6c731488",
   "metadata": {},
   "source": [
    "## Exercici 3\n",
    "\n",
    "Crea una función que te pregunte tu nombre, y pida un número. Si el número es 0, debería mostrar un mensaje de error. De lo contrario, debería mostrar el nombre repetido tantas veces como indique el número. Por ejemplo, \"Joan Joan Joan\".\n"
   ]
  },
  {
   "cell_type": "code",
   "execution_count": 19,
   "id": "f8f1939c",
   "metadata": {},
   "outputs": [
    {
     "name": "stdout",
     "output_type": "stream",
     "text": [
      "Dime tu nombre: Esteban\n",
      "Dame un número: 3\n",
      "Esteban\n",
      "Esteban\n",
      "Esteban\n"
     ]
    }
   ],
   "source": [
    "nom = input(\"Dime tu nombre: \")\n",
    "num = int(input(\"Dame un número: \"))\n",
    "\n",
    "if num == 0:\n",
    "    print (\"¡¡¡¡ERRRRROOOOORRRR!!!\")\n",
    "\n",
    "else: \n",
    "    for i in range(num):\n",
    "        print(nom)"
   ]
  },
  {
   "cell_type": "markdown",
   "id": "71d43a2c",
   "metadata": {},
   "source": [
    "## Exercici 4\n",
    "\n",
    "Crea una función que dada una lista cualquiera, te diga si es simétrica o no. Si lo es, que te diga cuántos elementos tiene.\n"
   ]
  },
  {
   "cell_type": "code",
   "execution_count": 20,
   "id": "acd17452",
   "metadata": {},
   "outputs": [
    {
     "name": "stdout",
     "output_type": "stream",
     "text": [
      "Escribe los datos de tu lista separados por espacios: 1 3 5 3 1\n",
      "La lista ingresada es: ['1', '3', '5', '3', '1']\n",
      "La lista es simétrica y tiene 5 elementos\n"
     ]
    }
   ],
   "source": [
    "# Para que te pida la lista\n",
    "datos = input(\"Escribe los datos de tu lista separados por espacios: \")\n",
    "\n",
    "# Con el método .plit() me divide los datos introducidos en elementos individuales y crea una lista\n",
    "lista = datos.split()\n",
    "\n",
    "# Para ver la lista que he crado, le digo que me la imprima\n",
    "print(\"La lista ingresada es:\", lista)\n",
    "\n",
    "for x in lista: x\n",
    "       \n",
    "for y in reversed(lista): y\n",
    "\n",
    "if x == y:\n",
    "        print(\"La lista es simétrica y tiene\", len(lista), \"elementos\")\n",
    "\n",
    "else:\n",
    "    print(\"La lista no es simétrica\")"
   ]
  },
  {
   "cell_type": "markdown",
   "id": "5830108e",
   "metadata": {},
   "source": [
    "## Exercici 5\n",
    "Crea una función que dada una lista, te diga cuántos números coinciden con su posición. Por ejemplo [3,4,2,0,2,3,6] el 2 y el 6 coinciden.\n"
   ]
  },
  {
   "cell_type": "code",
   "execution_count": 23,
   "id": "bc31c1fc",
   "metadata": {},
   "outputs": [
    {
     "name": "stdout",
     "output_type": "stream",
     "text": [
      "Escribe los números de tu lista separados por espacios: 1 2 1 3 1 5 5 7\n",
      "\n",
      "La lista de valores enteros ingresada es: [1, 2, 1, 3, 1, 5, 5, 7]\n",
      "\n",
      "Los pares (índice, valor) de tu lista son: \n",
      "0 1\n",
      "1 2\n",
      "2 1\n",
      "3 3\n",
      "4 1\n",
      "5 5\n",
      "6 5\n",
      "7 7\n",
      "\n",
      "La cantidad de números que coinciden con su índice en la lista es:  3\n"
     ]
    }
   ],
   "source": [
    "# Para que te pida la lista de números\n",
    "valores = input(\"Escribe los números de tu lista separados por espacios: \")\n",
    "\n",
    "# Le paso el método .plit() para que me convierta los números en una lista\n",
    "enteros = [int(x) for x in valores.split()]\n",
    "print()\n",
    "# Para ver la lista que he creado, le digo que me la imprima, pues quiero verla\n",
    "print(\"La lista de valores enteros ingresada es:\", enteros)\n",
    "\n",
    "print()\n",
    "# Con la función enumerate () me relaciona cada índice con su valor\n",
    "print (\"Los pares (índice, valor) de tu lista son: \")\n",
    "for indice, valor in enumerate(enteros):\n",
    "    print (indice, valor)\n",
    "\n",
    "    contador = 0\n",
    "for indice, valor in enumerate(enteros):\n",
    "    if indice == valor:\n",
    "        contador = contador +1\n",
    "print()\n",
    "print(\"La cantidad de números que coinciden con su índice en la lista es: \", contador)\n",
    "\n"
   ]
  },
  {
   "cell_type": "code",
   "execution_count": 24,
   "id": "ee4992bb",
   "metadata": {},
   "outputs": [
    {
     "name": "stdout",
     "output_type": "stream",
     "text": [
      "Los pares (posición, valor) de tu lista son: \n",
      "1 1\n",
      "2 2\n",
      "3 1\n",
      "4 3\n",
      "5 1\n",
      "6 5\n",
      "7 5\n",
      "8 7\n",
      "\n",
      "La cantidad de números que coinciden con su posición en tu lista es:  2\n"
     ]
    }
   ],
   "source": [
    "# Con la función enumerate (x, 1) me relaciona cada índice con su valor (empieza a contar en 1 en lugar de 0)\n",
    "print (\"Los pares (posición, valor) de tu lista son: \")\n",
    "for posicion, valor in enumerate(enteros, 1):\n",
    "    print (posicion, valor)\n",
    "    \n",
    "    posicionador = 0\n",
    "for posicion, valor in enumerate(enteros, 1):\n",
    "    if posicion == valor:\n",
    "        posicionador = posicionador +1\n",
    "print()\n",
    "print(\"La cantidad de números que coinciden con su posición en tu lista es: \", posicionador)\n",
    "\n",
    "\n"
   ]
  }
 ],
 "metadata": {
  "kernelspec": {
   "display_name": "Python 3 (ipykernel)",
   "language": "python",
   "name": "python3"
  },
  "language_info": {
   "codemirror_mode": {
    "name": "ipython",
    "version": 3
   },
   "file_extension": ".py",
   "mimetype": "text/x-python",
   "name": "python",
   "nbconvert_exporter": "python",
   "pygments_lexer": "ipython3",
   "version": "3.10.6"
  }
 },
 "nbformat": 4,
 "nbformat_minor": 5
}
